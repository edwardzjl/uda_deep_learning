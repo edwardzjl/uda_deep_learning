{
 "cells": [
  {
   "cell_type": "code",
   "execution_count": 1,
   "metadata": {
    "collapsed": true
   },
   "outputs": [],
   "source": [
    "# These are all the modules we'll be using later. Make sure you can import them\n",
    "# before proceeding further.\n",
    "from __future__ import print_function\n",
    "import numpy as np\n",
    "import tensorflow as tf\n",
    "from six.moves import cPickle as pickle\n",
    "from six.moves import range"
   ]
  },
  {
   "cell_type": "code",
   "execution_count": 2,
   "metadata": {},
   "outputs": [
    {
     "name": "stdout",
     "output_type": "stream",
     "text": [
      "Training set (200000, 28, 28) (200000,)\n",
      "Validation set (10000, 28, 28) (10000,)\n",
      "Test set (10000, 28, 28) (10000,)\n"
     ]
    }
   ],
   "source": [
    "# First reload the data we generated in 1_notmnist.ipynb.\n",
    "pickle_file = 'notMNIST.pickle'\n",
    "\n",
    "with open(pickle_file, 'rb') as f:\n",
    "    save = pickle.load(f)\n",
    "    train_dataset = save['train_dataset']\n",
    "    train_labels = save['train_labels']\n",
    "    valid_dataset = save['valid_dataset']\n",
    "    valid_labels = save['valid_labels']\n",
    "    test_dataset = save['test_dataset']\n",
    "    test_labels = save['test_labels']\n",
    "    del save  # hint to help gc free up memory\n",
    "    print('Training set', train_dataset.shape, train_labels.shape)\n",
    "    print('Validation set', valid_dataset.shape, valid_labels.shape)\n",
    "    print('Test set', test_dataset.shape, test_labels.shape)"
   ]
  },
  {
   "cell_type": "code",
   "execution_count": null,
   "metadata": {
    "collapsed": true
   },
   "outputs": [],
   "source": [
    "# Reformat into a shape that's more adapted to the models we're going to train:\n",
    "# # data as a flat matrix,\n",
    "# # labels as float 1-hot encodings."
   ]
  },
  {
   "cell_type": "code",
   "execution_count": 3,
   "metadata": {},
   "outputs": [
    {
     "name": "stdout",
     "output_type": "stream",
     "text": [
      "Training set (200000, 784) (200000, 10)\n",
      "Validation set (10000, 784) (10000, 10)\n",
      "Test set (10000, 784) (10000, 10)\n"
     ]
    }
   ],
   "source": [
    "image_size = 28\n",
    "num_labels = 10\n",
    "\n",
    "def reformat(dataset, labels):\n",
    "    # -1 means this size depends on the data\n",
    "    dataset = dataset.reshape((-1, image_size * image_size)).astype(np.float32)\n",
    "    # Map 1 to [0.0, 1.0, 0.0 ...], 2 to [0.0, 0.0, 1.0 ...]\n",
    "    labels = (np.arange(num_labels) == labels[:,None]).astype(np.float32)\n",
    "    return dataset, labels\n",
    "train_dataset, train_labels = reformat(train_dataset, train_labels)\n",
    "valid_dataset, valid_labels = reformat(valid_dataset, valid_labels)\n",
    "test_dataset, test_labels = reformat(test_dataset, test_labels)\n",
    "print('Training set', train_dataset.shape, train_labels.shape)\n",
    "print('Validation set', valid_dataset.shape, valid_labels.shape)\n",
    "print('Test set', test_dataset.shape, test_labels.shape)"
   ]
  },
  {
   "cell_type": "code",
   "execution_count": 4,
   "metadata": {
    "collapsed": true
   },
   "outputs": [],
   "source": [
    "def accuracy(predictions, labels):\n",
    "    return (100.0 * np.sum(np.argmax(predictions, 1) == np.argmax(labels, 1)) / predictions.shape[0])"
   ]
  },
  {
   "cell_type": "code",
   "execution_count": 5,
   "metadata": {
    "collapsed": true
   },
   "outputs": [],
   "source": [
    "batch_size = 128\n",
    "\n",
    "graph = tf.Graph()\n",
    "with graph.as_default():\n",
    "    \n",
    "    # Input data. For the training data, we use a placeholder that will be fed\n",
    "    # at run time with a training minibatch.\n",
    "    tf_train_dataset = tf.placeholder(tf.float32, shape=(batch_size, image_size * image_size))\n",
    "    tf_train_labels = tf.placeholder(tf.float32, shape=(batch_size, num_labels))\n",
    "    tf_valid_dataset = tf.constant(valid_dataset)\n",
    "    tf_test_dataset = tf.constant(test_dataset)\n",
    "    \n",
    "    # Variables.\n",
    "    # 1024 = hidden layer size\n",
    "    hidden_weights = tf.Variable(tf.truncated_normal([image_size * image_size, 1024]))\n",
    "    hidden_biases = tf.Variable(tf.zeros([1024]))\n",
    "    \n",
    "    out_weights = tf.Variable(tf.truncated_normal([1024, num_labels]))\n",
    "    out_biases = tf.Variable(tf.zeros([num_labels]))\n",
    "    \n",
    "    # hidden layer = weight * train_set + biase\n",
    "    hidden_layer_output = tf.nn.relu(tf.matmul(tf_train_dataset, hidden_weights) + hidden_biases)\n",
    "    \n",
    "    # Training computation.\n",
    "    logits = tf.matmul(hidden_layer_output, out_weights) + out_biases\n",
    "    \n",
    "    #########################################################################################\n",
    "    ## Problem 1\n",
    "    ## Introduce and tune L2 regularization for both logistic and neural network models.\n",
    "    ## Remember that L2 amounts to adding a penalty on the norm of the weights to the loss.\n",
    "    ## In TensorFlow, you can compute the L2 loss for a tensor t using nn.l2_loss(t).\n",
    "    ## The right amount of regularization should improve your validation / test accuracy.\n",
    "    #########################################################################################\n",
    "    \n",
    "    loss = (tf.reduce_mean(tf.nn.softmax_cross_entropy_with_logits(logits=logits, labels=tf_train_labels))\n",
    "            + 0.01 * tf.nn.l2_loss(hidden_weights)\n",
    "            + 0.01 * tf.nn.l2_loss(hidden_biases)\n",
    "            + 0.01 * tf.nn.l2_loss(out_weights)\n",
    "            + 0.01 * tf.nn.l2_loss(out_biases))\n",
    "    \n",
    "    \n",
    "    # Optimizer.\n",
    "    optimizer = tf.train.GradientDescentOptimizer(0.5).minimize(loss)\n",
    "    \n",
    "    \n",
    "    # Predictions for the training, validation, and test data.\n",
    "    train_prediction = tf.nn.softmax(logits)\n",
    "    \n",
    "    valid_hidden_out = tf.nn.relu(tf.matmul(tf_valid_dataset, hidden_weights) + hidden_biases)\n",
    "    valid_final_out = tf.matmul(valid_hidden_out, out_weights) + out_biases\n",
    "    valid_prediction = tf.nn.softmax(valid_final_out)\n",
    "    \n",
    "    test_hidden_out = tf.nn.relu(tf.matmul(tf_test_dataset, hidden_weights) + hidden_biases)\n",
    "    test_final_out = tf.matmul(test_hidden_out, out_weights) + out_biases\n",
    "    test_prediction = tf.nn.softmax(test_final_out)"
   ]
  },
  {
   "cell_type": "code",
   "execution_count": 31,
   "metadata": {},
   "outputs": [
    {
     "name": "stdout",
     "output_type": "stream",
     "text": [
      "Initialized\n",
      "Minibatch loss at step 0 : 3546.45\n",
      "Minibatch accuracy: 7.8%\n",
      "Validation accuracy: 30.2%\n",
      "Test accuracy: 33.1%\n",
      "Minibatch loss at step 500 : 21.4271\n",
      "Minibatch accuracy: 82.0%\n",
      "Validation accuracy: 84.1%\n",
      "Test accuracy: 90.7%\n",
      "Minibatch loss at step 1000 : 0.830387\n",
      "Minibatch accuracy: 85.2%\n",
      "Validation accuracy: 83.6%\n",
      "Test accuracy: 90.6%\n",
      "Minibatch loss at step 1500 : 0.765237\n",
      "Minibatch accuracy: 78.9%\n",
      "Validation accuracy: 83.0%\n",
      "Test accuracy: 90.1%\n",
      "Minibatch loss at step 2000 : 0.801438\n",
      "Minibatch accuracy: 82.0%\n",
      "Validation accuracy: 83.3%\n",
      "Test accuracy: 89.9%\n",
      "Minibatch loss at step 2500 : 0.800919\n",
      "Minibatch accuracy: 81.2%\n",
      "Validation accuracy: 83.2%\n",
      "Test accuracy: 90.0%\n",
      "Minibatch loss at step 3000 : 0.686331\n",
      "Minibatch accuracy: 85.9%\n",
      "Validation accuracy: 83.6%\n",
      "Test accuracy: 90.6%\n"
     ]
    }
   ],
   "source": [
    "num_steps = 3001\n",
    "\n",
    "with tf.Session(graph=graph) as session:\n",
    "    tf.global_variables_initializer().run()\n",
    "    print (\"Initialized\")\n",
    "    for step in range(num_steps):\n",
    "        # Pick an offset within the training data, which has been randomized.\n",
    "        # Note: we could use better randomization across epochs.\n",
    "        offset = (step * batch_size) % (train_labels.shape[0] - batch_size)\n",
    "        # Generate a minibatch.\n",
    "        batch_data = train_dataset[offset:(offset + batch_size), :]\n",
    "        batch_labels = train_labels[offset:(offset + batch_size), :]\n",
    "        # Prepare a dictionary telling the session where to feed the minibatch.\n",
    "        # The key of the dictionary is the placeholder node of the graph to be fed,\n",
    "        # and the value is the numpy array to feed to it.\n",
    "        feed_dict = {tf_train_dataset : batch_data, tf_train_labels : batch_labels}\n",
    "        _, l, predictions = session.run([optimizer, loss, train_prediction], feed_dict=feed_dict)\n",
    "        if (step % 500 == 0):\n",
    "            print (\"Minibatch loss at step\", step, \":\", l)\n",
    "            print (\"Minibatch accuracy: %.1f%%\" % accuracy(predictions, batch_labels))\n",
    "            print (\"Validation accuracy: %.1f%%\" % accuracy(valid_prediction.eval(), valid_labels))\n",
    "            print (\"Test accuracy: %.1f%%\" % accuracy(test_prediction.eval(), test_labels))"
   ]
  },
  {
   "cell_type": "code",
   "execution_count": null,
   "metadata": {
    "collapsed": true
   },
   "outputs": [],
   "source": [
    "## PROBLEM 2\n",
    "## Let's demonstrate an extreme case of overfitting. Restrict your training data to just a few batches.\n",
    "## What happens?"
   ]
  },
  {
   "cell_type": "code",
   "execution_count": 6,
   "metadata": {},
   "outputs": [
    {
     "name": "stdout",
     "output_type": "stream",
     "text": [
      "Training set (10000, 784) (10000, 10)\n",
      "Validation set (10000, 784) (10000, 10)\n",
      "Test set (10000, 784) (10000, 10)\n"
     ]
    }
   ],
   "source": [
    "train_dataset = train_dataset[:10000,:]\n",
    "train_labels = train_labels[:10000,:]\n",
    "print('Training set', train_dataset.shape, train_labels.shape)\n",
    "print('Validation set', valid_dataset.shape, valid_labels.shape)\n",
    "print('Test set', test_dataset.shape, test_labels.shape)"
   ]
  },
  {
   "cell_type": "code",
   "execution_count": 8,
   "metadata": {
    "collapsed": true
   },
   "outputs": [],
   "source": [
    "batch_size = 128\n",
    "\n",
    "graph = tf.Graph()\n",
    "with graph.as_default():\n",
    "    \n",
    "    # Input data. For the training data, we use a placeholder that will be fed\n",
    "    # at run time with a training minibatch.\n",
    "    tf_train_dataset = tf.placeholder(tf.float32, shape=(batch_size, image_size * image_size))\n",
    "    tf_train_labels = tf.placeholder(tf.float32, shape=(batch_size, num_labels))\n",
    "    tf_valid_dataset = tf.constant(valid_dataset)\n",
    "    tf_test_dataset = tf.constant(test_dataset)\n",
    "    \n",
    "    # Variables.\n",
    "    # 1024 = hidden layer size\n",
    "    hidden_weights = tf.Variable(tf.truncated_normal([image_size * image_size, 1024]))\n",
    "    hidden_biases = tf.Variable(tf.zeros([1024]))\n",
    "    \n",
    "    out_weights = tf.Variable(tf.truncated_normal([1024, num_labels]))\n",
    "    out_biases = tf.Variable(tf.zeros([num_labels]))\n",
    "    \n",
    "    # hidden layer = weight * train_set + biase\n",
    "    hidden_layer_output = tf.nn.relu(tf.matmul(tf_train_dataset, hidden_weights) + hidden_biases)\n",
    "    \n",
    "    # Training computation.\n",
    "    logits = tf.matmul(hidden_layer_output, out_weights) + out_biases\n",
    "    loss = (tf.reduce_mean(tf.nn.softmax_cross_entropy_with_logits(logits=logits, labels=tf_train_labels))\n",
    "            + 0.01 * tf.nn.l2_loss(hidden_weights)\n",
    "            + 0.01 * tf.nn.l2_loss(hidden_biases)\n",
    "            + 0.01 * tf.nn.l2_loss(out_weights)\n",
    "            + 0.01 * tf.nn.l2_loss(out_biases))\n",
    "    \n",
    "    # Optimizer.\n",
    "    optimizer = tf.train.GradientDescentOptimizer(0.5).minimize(loss)\n",
    "    \n",
    "    \n",
    "    # Predictions for the training, validation, and test data.\n",
    "    train_prediction = tf.nn.softmax(logits)\n",
    "    \n",
    "    valid_hidden_out = tf.nn.relu(tf.matmul(tf_valid_dataset, hidden_weights) + hidden_biases)\n",
    "    valid_final_out = tf.matmul(valid_hidden_out, out_weights) + out_biases\n",
    "    valid_prediction = tf.nn.softmax(valid_final_out)\n",
    "    \n",
    "    test_hidden_out = tf.nn.relu(tf.matmul(tf_test_dataset, hidden_weights) + hidden_biases)\n",
    "    test_final_out = tf.matmul(test_hidden_out, out_weights) + out_biases\n",
    "    test_prediction = tf.nn.softmax(test_final_out)"
   ]
  },
  {
   "cell_type": "code",
   "execution_count": 9,
   "metadata": {},
   "outputs": [
    {
     "name": "stdout",
     "output_type": "stream",
     "text": [
      "Initialized\n",
      "Minibatch loss at step 0 : 3489.67\n",
      "Minibatch accuracy: 17.2%\n",
      "Validation accuracy: 30.3%\n",
      "Test accuracy: 34.0%\n",
      "Minibatch loss at step 500 : 21.2775\n",
      "Minibatch accuracy: 93.8%\n",
      "Validation accuracy: 83.8%\n",
      "Test accuracy: 90.6%\n",
      "Minibatch loss at step 1000 : 0.87769\n",
      "Minibatch accuracy: 85.9%\n",
      "Validation accuracy: 81.1%\n",
      "Test accuracy: 88.5%\n",
      "Minibatch loss at step 1500 : 0.796123\n",
      "Minibatch accuracy: 82.8%\n",
      "Validation accuracy: 82.6%\n",
      "Test accuracy: 89.7%\n",
      "Minibatch loss at step 2000 : 0.903035\n",
      "Minibatch accuracy: 78.9%\n",
      "Validation accuracy: 82.1%\n",
      "Test accuracy: 89.4%\n",
      "Minibatch loss at step 2500 : 0.714631\n",
      "Minibatch accuracy: 86.7%\n",
      "Validation accuracy: 82.6%\n",
      "Test accuracy: 89.5%\n",
      "Minibatch loss at step 3000 : 0.637857\n",
      "Minibatch accuracy: 85.2%\n",
      "Validation accuracy: 82.9%\n",
      "Test accuracy: 90.2%\n"
     ]
    }
   ],
   "source": [
    "num_steps = 3001\n",
    "\n",
    "with tf.Session(graph=graph) as session:\n",
    "    tf.global_variables_initializer().run()\n",
    "    print (\"Initialized\")\n",
    "    for step in range(num_steps):\n",
    "        # Pick an offset within the training data, which has been randomized.\n",
    "        # Note: we could use better randomization across epochs.\n",
    "        offset = (step * batch_size) % (train_labels.shape[0] - batch_size)\n",
    "        # Generate a minibatch.\n",
    "        batch_data = train_dataset[offset:(offset + batch_size), :]\n",
    "        batch_labels = train_labels[offset:(offset + batch_size), :]\n",
    "        # Prepare a dictionary telling the session where to feed the minibatch.\n",
    "        # The key of the dictionary is the placeholder node of the graph to be fed,\n",
    "        # and the value is the numpy array to feed to it.\n",
    "        feed_dict = {tf_train_dataset : batch_data, tf_train_labels : batch_labels}\n",
    "        _, l, predictions = session.run([optimizer, loss, train_prediction], feed_dict=feed_dict)\n",
    "        if (step % 500 == 0):\n",
    "            print (\"Minibatch loss at step\", step, \":\", l)\n",
    "            print (\"Minibatch accuracy: %.1f%%\" % accuracy(predictions, batch_labels))\n",
    "            print (\"Validation accuracy: %.1f%%\" % accuracy(valid_prediction.eval(), valid_labels))\n",
    "            print (\"Test accuracy: %.1f%%\" % accuracy(test_prediction.eval(), test_labels))"
   ]
  },
  {
   "cell_type": "code",
   "execution_count": 10,
   "metadata": {
    "collapsed": true
   },
   "outputs": [],
   "source": [
    "## PROBLEM 3\n",
    "## Introduce Dropout on the hidden layer of the neural network.\n",
    "## Remember: Dropout should only be introduced during training, not evaluation,\n",
    "## otherwise your evaluation results would be stochastic as well.\n",
    "## TensorFlow provides nn.dropout() for that, but you have to make sure it's only inserted during training.\n",
    "## What happens to our extreme overfitting case?"
   ]
  },
  {
   "cell_type": "code",
   "execution_count": 11,
   "metadata": {
    "collapsed": true
   },
   "outputs": [],
   "source": [
    "batch_size = 128\n",
    "\n",
    "graph = tf.Graph()\n",
    "with graph.as_default():\n",
    "    \n",
    "    # Input data. For the training data, we use a placeholder that will be fed\n",
    "    # at run time with a training minibatch.\n",
    "    tf_train_dataset = tf.placeholder(tf.float32, shape=(batch_size, image_size * image_size))\n",
    "    tf_train_labels = tf.placeholder(tf.float32, shape=(batch_size, num_labels))\n",
    "    tf_valid_dataset = tf.constant(valid_dataset)\n",
    "    tf_test_dataset = tf.constant(test_dataset)\n",
    "    \n",
    "    # Variables.\n",
    "    # 1024 = hidden layer size\n",
    "    hidden_weights = tf.Variable(tf.truncated_normal([image_size * image_size, 1024]))\n",
    "    hidden_biases = tf.Variable(tf.zeros([1024]))\n",
    "    \n",
    "    out_weights = tf.Variable(tf.truncated_normal([1024, num_labels]))\n",
    "    out_biases = tf.Variable(tf.zeros([num_labels]))\n",
    "    \n",
    "    # hidden layer = weight * train_set + biase\n",
    "    hidden_layer_output = tf.nn.relu(\n",
    "        tf.nn.dropout(\n",
    "            tf.matmul(tf_train_dataset, hidden_weights) + hidden_biases,\n",
    "            0.5))\n",
    "    \n",
    "    # Training computation.\n",
    "    logits = tf.matmul(hidden_layer_output, out_weights) + out_biases\n",
    "    loss = (tf.reduce_mean(tf.nn.softmax_cross_entropy_with_logits(logits=logits, labels=tf_train_labels))\n",
    "            + 0.01 * tf.nn.l2_loss(hidden_weights)\n",
    "            + 0.01 * tf.nn.l2_loss(hidden_biases)\n",
    "            + 0.01 * tf.nn.l2_loss(out_weights)\n",
    "            + 0.01 * tf.nn.l2_loss(out_biases))\n",
    "    \n",
    "    # Optimizer.\n",
    "    optimizer = tf.train.GradientDescentOptimizer(0.5).minimize(loss)\n",
    "    \n",
    "    \n",
    "    # Predictions for the training, validation, and test data.\n",
    "    train_prediction = tf.nn.softmax(logits)\n",
    "    \n",
    "    valid_hidden_out = tf.nn.relu(tf.matmul(tf_valid_dataset, hidden_weights) + hidden_biases)\n",
    "    valid_final_out = tf.matmul(valid_hidden_out, out_weights) + out_biases\n",
    "    valid_prediction = tf.nn.softmax(valid_final_out)\n",
    "    \n",
    "    test_hidden_out = tf.nn.relu(tf.matmul(tf_test_dataset, hidden_weights) + hidden_biases)\n",
    "    test_final_out = tf.matmul(test_hidden_out, out_weights) + out_biases\n",
    "    test_prediction = tf.nn.softmax(test_final_out)"
   ]
  },
  {
   "cell_type": "code",
   "execution_count": 12,
   "metadata": {},
   "outputs": [
    {
     "name": "stdout",
     "output_type": "stream",
     "text": [
      "Initialized\n",
      "Minibatch loss at step 0 : 3602.77\n",
      "Minibatch accuracy: 8.6%\n",
      "Validation accuracy: 27.5%\n",
      "Test accuracy: 29.5%\n",
      "Minibatch loss at step 500 : 21.6082\n",
      "Minibatch accuracy: 86.7%\n",
      "Validation accuracy: 83.3%\n",
      "Test accuracy: 90.0%\n",
      "Minibatch loss at step 1000 : 0.986541\n",
      "Minibatch accuracy: 82.0%\n",
      "Validation accuracy: 80.1%\n",
      "Test accuracy: 87.6%\n",
      "Minibatch loss at step 1500 : 0.875928\n",
      "Minibatch accuracy: 80.5%\n",
      "Validation accuracy: 82.2%\n",
      "Test accuracy: 89.4%\n",
      "Minibatch loss at step 2000 : 0.99512\n",
      "Minibatch accuracy: 75.8%\n",
      "Validation accuracy: 81.0%\n",
      "Test accuracy: 88.4%\n",
      "Minibatch loss at step 2500 : 0.769502\n",
      "Minibatch accuracy: 82.8%\n",
      "Validation accuracy: 81.9%\n",
      "Test accuracy: 88.8%\n",
      "Minibatch loss at step 3000 : 0.688292\n",
      "Minibatch accuracy: 83.6%\n",
      "Validation accuracy: 82.3%\n",
      "Test accuracy: 89.7%\n"
     ]
    }
   ],
   "source": [
    "num_steps = 3001\n",
    "\n",
    "with tf.Session(graph=graph) as session:\n",
    "    tf.global_variables_initializer().run()\n",
    "    print (\"Initialized\")\n",
    "    for step in range(num_steps):\n",
    "        # Pick an offset within the training data, which has been randomized.\n",
    "        # Note: we could use better randomization across epochs.\n",
    "        offset = (step * batch_size) % (train_labels.shape[0] - batch_size)\n",
    "        # Generate a minibatch.\n",
    "        batch_data = train_dataset[offset:(offset + batch_size), :]\n",
    "        batch_labels = train_labels[offset:(offset + batch_size), :]\n",
    "        # Prepare a dictionary telling the session where to feed the minibatch.\n",
    "        # The key of the dictionary is the placeholder node of the graph to be fed,\n",
    "        # and the value is the numpy array to feed to it.\n",
    "        feed_dict = {tf_train_dataset : batch_data, tf_train_labels : batch_labels}\n",
    "        _, l, predictions = session.run([optimizer, loss, train_prediction], feed_dict=feed_dict)\n",
    "        if (step % 500 == 0):\n",
    "            print (\"Minibatch loss at step\", step, \":\", l)\n",
    "            print (\"Minibatch accuracy: %.1f%%\" % accuracy(predictions, batch_labels))\n",
    "            print (\"Validation accuracy: %.1f%%\" % accuracy(valid_prediction.eval(), valid_labels))\n",
    "            print (\"Test accuracy: %.1f%%\" % accuracy(test_prediction.eval(), test_labels))"
   ]
  },
  {
   "cell_type": "code",
   "execution_count": null,
   "metadata": {
    "collapsed": true
   },
   "outputs": [],
   "source": []
  }
 ],
 "metadata": {
  "kernelspec": {
   "display_name": "Python 3",
   "language": "python",
   "name": "python3"
  },
  "language_info": {
   "codemirror_mode": {
    "name": "ipython",
    "version": 3
   },
   "file_extension": ".py",
   "mimetype": "text/x-python",
   "name": "python",
   "nbconvert_exporter": "python",
   "pygments_lexer": "ipython3",
   "version": "3.5.2"
  }
 },
 "nbformat": 4,
 "nbformat_minor": 2
}
